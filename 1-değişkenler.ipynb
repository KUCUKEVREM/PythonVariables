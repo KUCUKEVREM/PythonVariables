{
 "cells": [
  {
   "cell_type": "code",
   "execution_count": 1,
   "id": "1b8a1e80",
   "metadata": {},
   "outputs": [],
   "source": [
    "print(\"hello world\")"
   ]
  },
  {
   "cell_type": "code",
   "execution_count": 2,
   "id": "a73002c2",
   "metadata": {},
   "outputs": [],
   "source": [
    "print(\"merve was here\")"
   ]
  },
  {
   "cell_type": "code",
   "execution_count": 3,
   "id": "011f8c89",
   "metadata": {
    "scrolled": true
   },
   "outputs": [],
   "source": [
    "print(\"merhaba phyton\")"
   ]
  },
  {
   "cell_type": "markdown",
   "id": "c6a74beb",
   "metadata": {},
   "source": [
    "siber güvenlik temel phyton bölümü"
   ]
  },
  {
   "cell_type": "code",
   "execution_count": 4,
   "id": "4e24c3f8",
   "metadata": {},
   "outputs": [],
   "source": [
    "3 + 5"
   ]
  },
  {
   "cell_type": "code",
   "execution_count": 5,
   "id": "c847d656",
   "metadata": {},
   "outputs": [
    {
     "data": {
      "text/plain": [
       "15"
      ]
     },
     "execution_count": 5,
     "metadata": {},
     "output_type": "execute_result"
    }
   ],
   "source": [
    "3 * 5"
   ]
  },
  {
   "cell_type": "code",
   "execution_count": 6,
   "id": "b82fe329",
   "metadata": {},
   "outputs": [
    {
     "data": {
      "text/plain": [
       "8"
      ]
     },
     "execution_count": 6,
     "metadata": {},
     "output_type": "execute_result"
    }
   ],
   "source": [
    "10 - 2 "
   ]
  },
  {
   "cell_type": "code",
   "execution_count": 7,
   "id": "5b81b8e3",
   "metadata": {},
   "outputs": [
    {
     "data": {
      "text/plain": [
       "24.0"
      ]
     },
     "execution_count": 7,
     "metadata": {},
     "output_type": "execute_result"
    }
   ],
   "source": [
    "10 / 2 * 5 -1"
   ]
  },
  {
   "cell_type": "code",
   "execution_count": 8,
   "id": "43ebb2b0",
   "metadata": {},
   "outputs": [
    {
     "data": {
      "text/plain": [
       "81"
      ]
     },
     "execution_count": 8,
     "metadata": {},
     "output_type": "execute_result"
    }
   ],
   "source": [
    "3 * 3* 3* 3"
   ]
  },
  {
   "cell_type": "code",
   "execution_count": 9,
   "id": "72909469",
   "metadata": {},
   "outputs": [
    {
     "data": {
      "text/plain": [
       "243"
      ]
     },
     "execution_count": 9,
     "metadata": {},
     "output_type": "execute_result"
    }
   ],
   "source": [
    "3 ** 5"
   ]
  },
  {
   "cell_type": "code",
   "execution_count": 10,
   "id": "5423e7b2",
   "metadata": {},
   "outputs": [
    {
     "data": {
      "text/plain": [
       "81"
      ]
     },
     "execution_count": 10,
     "metadata": {},
     "output_type": "execute_result"
    }
   ],
   "source": [
    "3 ** 4"
   ]
  },
  {
   "cell_type": "code",
   "execution_count": 11,
   "id": "ba8b749b",
   "metadata": {},
   "outputs": [
    {
     "data": {
      "text/plain": [
       "600"
      ]
     },
     "execution_count": 11,
     "metadata": {},
     "output_type": "execute_result"
    }
   ],
   "source": [
    "60 * 10"
   ]
  },
  {
   "cell_type": "markdown",
   "id": "544ec6dd",
   "metadata": {},
   "source": [
    "kullanici_yasi -> snake_case\n",
    "kullaniciYasi -> camelCase"
   ]
  },
  {
   "cell_type": "code",
   "execution_count": 12,
   "id": "b324dba7",
   "metadata": {},
   "outputs": [],
   "source": [
    "kullanici_yasi = 34"
   ]
  },
  {
   "cell_type": "code",
   "execution_count": 13,
   "id": "b251a3a7",
   "metadata": {},
   "outputs": [
    {
     "data": {
      "text/plain": [
       "340"
      ]
     },
     "execution_count": 13,
     "metadata": {},
     "output_type": "execute_result"
    }
   ],
   "source": [
    "kullanici_yasi * 10"
   ]
  },
  {
   "cell_type": "code",
   "execution_count": 14,
   "id": "469b7cdc",
   "metadata": {},
   "outputs": [
    {
     "ename": "NameError",
     "evalue": "name 'kullanici_ismi' is not defined",
     "output_type": "error",
     "traceback": [
      "\u001b[1;31m---------------------------------------------------------------------------\u001b[0m",
      "\u001b[1;31mNameError\u001b[0m                                 Traceback (most recent call last)",
      "Input \u001b[1;32mIn [14]\u001b[0m, in \u001b[0;36m<cell line: 1>\u001b[1;34m()\u001b[0m\n\u001b[1;32m----> 1\u001b[0m \u001b[43mkullanici_ismi\u001b[49m\n",
      "\u001b[1;31mNameError\u001b[0m: name 'kullanici_ismi' is not defined"
     ]
    }
   ],
   "source": [
    "kullanici_ismi"
   ]
  },
  {
   "cell_type": "code",
   "execution_count": null,
   "id": "f43d145b",
   "metadata": {},
   "outputs": [],
   "source": [
    "kullanici_YASI"
   ]
  },
  {
   "cell_type": "code",
   "execution_count": null,
   "id": "bc87e00e",
   "metadata": {},
   "outputs": [],
   "source": [
    "kullanici_yasi = 35"
   ]
  },
  {
   "cell_type": "code",
   "execution_count": null,
   "id": "9e4f556c",
   "metadata": {},
   "outputs": [],
   "source": [
    "kullanici_yasi * 2"
   ]
  },
  {
   "cell_type": "code",
   "execution_count": null,
   "id": "46ed3afc",
   "metadata": {},
   "outputs": [],
   "source": [
    "benim_sayim = 20"
   ]
  },
  {
   "cell_type": "code",
   "execution_count": null,
   "id": "fea058e2",
   "metadata": {},
   "outputs": [],
   "source": [
    "benim_sayim /2"
   ]
  },
  {
   "cell_type": "code",
   "execution_count": null,
   "id": "d3731761",
   "metadata": {},
   "outputs": [],
   "source": [
    "2 * 3,14 * 10"
   ]
  },
  {
   "cell_type": "code",
   "execution_count": null,
   "id": "368dec9a",
   "metadata": {},
   "outputs": [],
   "source": [
    "2 * 3.14 * 10"
   ]
  },
  {
   "cell_type": "code",
   "execution_count": null,
   "id": "24ca2d28",
   "metadata": {},
   "outputs": [],
   "source": [
    "yari_cap = 10\n",
    "2 * 3.14 * yari_cap"
   ]
  },
  {
   "cell_type": "code",
   "execution_count": null,
   "id": "4af2c131",
   "metadata": {},
   "outputs": [],
   "source": [
    "dairenin_cevresi = 2 * 3.14 * yari_cap"
   ]
  },
  {
   "cell_type": "code",
   "execution_count": null,
   "id": "e490963f",
   "metadata": {},
   "outputs": [],
   "source": [
    "dairenin_cevresi "
   ]
  },
  {
   "cell_type": "code",
   "execution_count": null,
   "id": "a7fb8a36",
   "metadata": {},
   "outputs": [],
   "source": [
    "#veri tipleri"
   ]
  },
  {
   "cell_type": "code",
   "execution_count": null,
   "id": "56fc0806",
   "metadata": {},
   "outputs": [],
   "source": [
    "x = 10"
   ]
  },
  {
   "cell_type": "code",
   "execution_count": null,
   "id": "0847e3eb",
   "metadata": {},
   "outputs": [],
   "source": [
    "y = 20"
   ]
  },
  {
   "cell_type": "code",
   "execution_count": null,
   "id": "9a2e233c",
   "metadata": {},
   "outputs": [],
   "source": [
    "type(x)"
   ]
  },
  {
   "cell_type": "code",
   "execution_count": null,
   "id": "d84c43d2",
   "metadata": {},
   "outputs": [],
   "source": [
    "type(y)"
   ]
  },
  {
   "cell_type": "code",
   "execution_count": null,
   "id": "a9d8db93",
   "metadata": {},
   "outputs": [],
   "source": [
    "z = 10.3"
   ]
  },
  {
   "cell_type": "code",
   "execution_count": null,
   "id": "efd87511",
   "metadata": {},
   "outputs": [],
   "source": [
    "type(z)"
   ]
  },
  {
   "cell_type": "code",
   "execution_count": null,
   "id": "312e7d19",
   "metadata": {},
   "outputs": [],
   "source": [
    "a = text"
   ]
  },
  {
   "cell_type": "code",
   "execution_count": null,
   "id": "54b619a3",
   "metadata": {},
   "outputs": [],
   "source": [
    "a = 'text'"
   ]
  },
  {
   "cell_type": "code",
   "execution_count": null,
   "id": "37fcec00",
   "metadata": {},
   "outputs": [],
   "source": [
    "type(a)"
   ]
  },
  {
   "cell_type": "code",
   "execution_count": null,
   "id": "bae666a4",
   "metadata": {},
   "outputs": [],
   "source": [
    "x / y"
   ]
  },
  {
   "cell_type": "code",
   "execution_count": null,
   "id": "14a92696",
   "metadata": {},
   "outputs": [],
   "source": [
    "type(x/y)"
   ]
  },
  {
   "cell_type": "code",
   "execution_count": null,
   "id": "6be0f169",
   "metadata": {},
   "outputs": [],
   "source": [
    "pi = 3.14"
   ]
  },
  {
   "cell_type": "code",
   "execution_count": null,
   "id": "e2de1e9c",
   "metadata": {},
   "outputs": [],
   "source": [
    "type(pi)"
   ]
  },
  {
   "cell_type": "code",
   "execution_count": null,
   "id": "2166e781",
   "metadata": {},
   "outputs": [],
   "source": [
    "type(x * y)"
   ]
  },
  {
   "cell_type": "code",
   "execution_count": null,
   "id": "59b62c95",
   "metadata": {},
   "outputs": [],
   "source": [
    "10 % 3"
   ]
  },
  {
   "cell_type": "code",
   "execution_count": null,
   "id": "42ad73a4",
   "metadata": {},
   "outputs": [],
   "source": [
    "kullanici_yasi * 3 / 5"
   ]
  },
  {
   "cell_type": "code",
   "execution_count": null,
   "id": "1c955e0d",
   "metadata": {},
   "outputs": [],
   "source": [
    "kullanici_yasi = input(\"lütfen yasinizi giriniz:\")"
   ]
  },
  {
   "cell_type": "code",
   "execution_count": null,
   "id": "143add5a",
   "metadata": {},
   "outputs": [],
   "source": [
    "kullanici_yasi = input(\"lütfen yasinizi giriniz: \")"
   ]
  },
  {
   "cell_type": "code",
   "execution_count": null,
   "id": "5e1ba94c",
   "metadata": {},
   "outputs": [],
   "source": [
    "yas = input (\"yas girin:\")"
   ]
  },
  {
   "cell_type": "code",
   "execution_count": null,
   "id": "321571d7",
   "metadata": {},
   "outputs": [],
   "source": [
    "yas"
   ]
  },
  {
   "cell_type": "code",
   "execution_count": null,
   "id": "e5820bf5",
   "metadata": {},
   "outputs": [],
   "source": [
    "kullanici_yas = input(\"yasinizi giriniz: \")"
   ]
  },
  {
   "cell_type": "code",
   "execution_count": null,
   "id": "cec9ebde",
   "metadata": {},
   "outputs": [],
   "source": [
    "x = \"merve\""
   ]
  },
  {
   "cell_type": "code",
   "execution_count": 15,
   "id": "3e206487",
   "metadata": {},
   "outputs": [
    {
     "ename": "NameError",
     "evalue": "name 'x' is not defined",
     "output_type": "error",
     "traceback": [
      "\u001b[1;31m---------------------------------------------------------------------------\u001b[0m",
      "\u001b[1;31mNameError\u001b[0m                                 Traceback (most recent call last)",
      "Input \u001b[1;32mIn [15]\u001b[0m, in \u001b[0;36m<cell line: 1>\u001b[1;34m()\u001b[0m\n\u001b[1;32m----> 1\u001b[0m \u001b[38;5;28mtype\u001b[39m(\u001b[43mx\u001b[49m)\n",
      "\u001b[1;31mNameError\u001b[0m: name 'x' is not defined"
     ]
    }
   ],
   "source": [
    "type(x)"
   ]
  },
  {
   "cell_type": "code",
   "execution_count": 16,
   "id": "dd9dfe63",
   "metadata": {},
   "outputs": [
    {
     "name": "stdout",
     "output_type": "stream",
     "text": [
      "giriniz: 34\n"
     ]
    }
   ],
   "source": [
    "kullanici_yasi = input(\"giriniz: \")"
   ]
  },
  {
   "cell_type": "code",
   "execution_count": 17,
   "id": "b506e911",
   "metadata": {},
   "outputs": [],
   "source": [
    "x = 5"
   ]
  },
  {
   "cell_type": "code",
   "execution_count": 18,
   "id": "6f906fa0",
   "metadata": {},
   "outputs": [
    {
     "data": {
      "text/plain": [
       "int"
      ]
     },
     "execution_count": 18,
     "metadata": {},
     "output_type": "execute_result"
    }
   ],
   "source": [
    "type(x)"
   ]
  },
  {
   "cell_type": "code",
   "execution_count": 19,
   "id": "f1686d80",
   "metadata": {},
   "outputs": [],
   "source": [
    "x=\"merhaba\""
   ]
  },
  {
   "cell_type": "code",
   "execution_count": 20,
   "id": "663e3680",
   "metadata": {},
   "outputs": [
    {
     "data": {
      "text/plain": [
       "str"
      ]
     },
     "execution_count": 20,
     "metadata": {},
     "output_type": "execute_result"
    }
   ],
   "source": [
    "type(x)"
   ]
  },
  {
   "cell_type": "code",
   "execution_count": 21,
   "id": "1959014c",
   "metadata": {},
   "outputs": [
    {
     "data": {
      "text/plain": [
       "<function str.capitalize()>"
      ]
     },
     "execution_count": 21,
     "metadata": {},
     "output_type": "execute_result"
    }
   ],
   "source": [
    "x.capitalize"
   ]
  },
  {
   "cell_type": "code",
   "execution_count": 22,
   "id": "2bf810f7",
   "metadata": {},
   "outputs": [
    {
     "data": {
      "text/plain": [
       "'Merhaba'"
      ]
     },
     "execution_count": 22,
     "metadata": {},
     "output_type": "execute_result"
    }
   ],
   "source": [
    "x.capitalize()"
   ]
  },
  {
   "cell_type": "code",
   "execution_count": 23,
   "id": "ed222b56",
   "metadata": {},
   "outputs": [],
   "source": [
    "kullanici_yasi = 34"
   ]
  },
  {
   "cell_type": "code",
   "execution_count": 25,
   "id": "fff11c4d",
   "metadata": {},
   "outputs": [
    {
     "ename": "AttributeError",
     "evalue": "'int' object has no attribute 'endswith'",
     "output_type": "error",
     "traceback": [
      "\u001b[1;31m---------------------------------------------------------------------------\u001b[0m",
      "\u001b[1;31mAttributeError\u001b[0m                            Traceback (most recent call last)",
      "Input \u001b[1;32mIn [25]\u001b[0m, in \u001b[0;36m<cell line: 1>\u001b[1;34m()\u001b[0m\n\u001b[1;32m----> 1\u001b[0m \u001b[43mkullanici_yasi\u001b[49m\u001b[38;5;241;43m.\u001b[39;49m\u001b[43mendswith\u001b[49m(\u001b[38;5;124m\"\u001b[39m\u001b[38;5;124m4\u001b[39m\u001b[38;5;124m\"\u001b[39m)\n",
      "\u001b[1;31mAttributeError\u001b[0m: 'int' object has no attribute 'endswith'"
     ]
    }
   ],
   "source": [
    "kullanici_yasi.endswith(\"4\")"
   ]
  },
  {
   "cell_type": "code",
   "execution_count": 26,
   "id": "f85a78df",
   "metadata": {},
   "outputs": [
    {
     "ename": "AttributeError",
     "evalue": "'int' object has no attribute 'endswith'",
     "output_type": "error",
     "traceback": [
      "\u001b[1;31m---------------------------------------------------------------------------\u001b[0m",
      "\u001b[1;31mAttributeError\u001b[0m                            Traceback (most recent call last)",
      "Input \u001b[1;32mIn [26]\u001b[0m, in \u001b[0;36m<cell line: 1>\u001b[1;34m()\u001b[0m\n\u001b[1;32m----> 1\u001b[0m \u001b[43mkullanici_yasi\u001b[49m\u001b[38;5;241;43m.\u001b[39;49m\u001b[43mendswith\u001b[49m(\u001b[38;5;124m\"\u001b[39m\u001b[38;5;124m4\u001b[39m\u001b[38;5;124m\"\u001b[39m)\n",
      "\u001b[1;31mAttributeError\u001b[0m: 'int' object has no attribute 'endswith'"
     ]
    }
   ],
   "source": [
    "kullanici_yasi.endswith(\"4\")"
   ]
  },
  {
   "cell_type": "code",
   "execution_count": 27,
   "id": "93e696cc",
   "metadata": {},
   "outputs": [],
   "source": [
    "benim_string = \"merve\""
   ]
  },
  {
   "cell_type": "code",
   "execution_count": 28,
   "id": "36b77438",
   "metadata": {},
   "outputs": [
    {
     "data": {
      "text/plain": [
       "<function str.islower()>"
      ]
     },
     "execution_count": 28,
     "metadata": {},
     "output_type": "execute_result"
    }
   ],
   "source": [
    "benim_string.islower"
   ]
  },
  {
   "cell_type": "code",
   "execution_count": 29,
   "id": "53bafacf",
   "metadata": {},
   "outputs": [
    {
     "data": {
      "text/plain": [
       "True"
      ]
     },
     "execution_count": 29,
     "metadata": {},
     "output_type": "execute_result"
    }
   ],
   "source": [
    "benim_string.islower()"
   ]
  },
  {
   "cell_type": "code",
   "execution_count": 30,
   "id": "d551f3ba",
   "metadata": {},
   "outputs": [
    {
     "data": {
      "text/plain": [
       "'MERVE'"
      ]
     },
     "execution_count": 30,
     "metadata": {},
     "output_type": "execute_result"
    }
   ],
   "source": [
    "benim_string.upper()"
   ]
  },
  {
   "cell_type": "code",
   "execution_count": 31,
   "id": "22b1d000",
   "metadata": {},
   "outputs": [],
   "source": [
    "y = 50"
   ]
  },
  {
   "cell_type": "code",
   "execution_count": 32,
   "id": "d50c6c23",
   "metadata": {},
   "outputs": [
    {
     "data": {
      "text/plain": [
       "int"
      ]
     },
     "execution_count": 32,
     "metadata": {},
     "output_type": "execute_result"
    }
   ],
   "source": [
    "type(y)"
   ]
  },
  {
   "cell_type": "code",
   "execution_count": 33,
   "id": "f684bafe",
   "metadata": {},
   "outputs": [
    {
     "ename": "TypeError",
     "evalue": "from_bytes() missing required argument 'bytes' (pos 1)",
     "output_type": "error",
     "traceback": [
      "\u001b[1;31m---------------------------------------------------------------------------\u001b[0m",
      "\u001b[1;31mTypeError\u001b[0m                                 Traceback (most recent call last)",
      "Input \u001b[1;32mIn [33]\u001b[0m, in \u001b[0;36m<cell line: 1>\u001b[1;34m()\u001b[0m\n\u001b[1;32m----> 1\u001b[0m \u001b[43my\u001b[49m\u001b[38;5;241;43m.\u001b[39;49m\u001b[43mfrom_bytes\u001b[49m\u001b[43m(\u001b[49m\u001b[43m)\u001b[49m\n",
      "\u001b[1;31mTypeError\u001b[0m: from_bytes() missing required argument 'bytes' (pos 1)"
     ]
    }
   ],
   "source": [
    "y.from_bytes()"
   ]
  },
  {
   "cell_type": "code",
   "execution_count": 34,
   "id": "ff7b22a2",
   "metadata": {},
   "outputs": [],
   "source": [
    "baska_string ='örnek'"
   ]
  },
  {
   "cell_type": "code",
   "execution_count": 35,
   "id": "a2e7f09e",
   "metadata": {},
   "outputs": [],
   "source": [
    "diger_String = \"örnek\""
   ]
  },
  {
   "cell_type": "code",
   "execution_count": 36,
   "id": "d163352d",
   "metadata": {},
   "outputs": [
    {
     "name": "stdout",
     "output_type": "stream",
     "text": [
      "yasinizi giriniz: 34\n"
     ]
    }
   ],
   "source": [
    "kullanici_yasi = input(\"yasinizi giriniz: \")"
   ]
  },
  {
   "cell_type": "code",
   "execution_count": 37,
   "id": "a519f831",
   "metadata": {},
   "outputs": [
    {
     "data": {
      "text/plain": [
       "str"
      ]
     },
     "execution_count": 37,
     "metadata": {},
     "output_type": "execute_result"
    }
   ],
   "source": [
    "type(kullanici_yasi)"
   ]
  },
  {
   "cell_type": "code",
   "execution_count": 38,
   "id": "ac065225",
   "metadata": {},
   "outputs": [
    {
     "data": {
      "text/plain": [
       "'34'"
      ]
     },
     "execution_count": 38,
     "metadata": {},
     "output_type": "execute_result"
    }
   ],
   "source": [
    "kullanici_yasi"
   ]
  },
  {
   "cell_type": "code",
   "execution_count": 39,
   "id": "3228e064",
   "metadata": {},
   "outputs": [
    {
     "data": {
      "text/plain": [
       "34"
      ]
     },
     "execution_count": 39,
     "metadata": {},
     "output_type": "execute_result"
    }
   ],
   "source": [
    "int(kullanici_yasi)"
   ]
  },
  {
   "cell_type": "code",
   "execution_count": 40,
   "id": "84035189",
   "metadata": {},
   "outputs": [
    {
     "data": {
      "text/plain": [
       "str"
      ]
     },
     "execution_count": 40,
     "metadata": {},
     "output_type": "execute_result"
    }
   ],
   "source": [
    "type(kullanici_yasi)"
   ]
  },
  {
   "cell_type": "code",
   "execution_count": 41,
   "id": "ff377961",
   "metadata": {},
   "outputs": [],
   "source": [
    "kullanici_yasi_int = int(kullanici_yasi)"
   ]
  },
  {
   "cell_type": "code",
   "execution_count": 42,
   "id": "c3685fa1",
   "metadata": {},
   "outputs": [
    {
     "data": {
      "text/plain": [
       "int"
      ]
     },
     "execution_count": 42,
     "metadata": {},
     "output_type": "execute_result"
    }
   ],
   "source": [
    "type(kullanici_yasi_int)"
   ]
  },
  {
   "cell_type": "code",
   "execution_count": 43,
   "id": "ec57daa7",
   "metadata": {},
   "outputs": [],
   "source": [
    "benim_String = \"3.14\""
   ]
  },
  {
   "cell_type": "code",
   "execution_count": 44,
   "id": "11a2f335",
   "metadata": {},
   "outputs": [],
   "source": [
    "benim_string_float = float(benim_String)"
   ]
  },
  {
   "cell_type": "code",
   "execution_count": 45,
   "id": "9d056efb",
   "metadata": {},
   "outputs": [
    {
     "data": {
      "text/plain": [
       "str"
      ]
     },
     "execution_count": 45,
     "metadata": {},
     "output_type": "execute_result"
    }
   ],
   "source": [
    "type(benim_string)"
   ]
  },
  {
   "cell_type": "code",
   "execution_count": 46,
   "id": "e8aaee76",
   "metadata": {},
   "outputs": [],
   "source": [
    "benim_adim = \"merve\""
   ]
  },
  {
   "cell_type": "code",
   "execution_count": 47,
   "id": "cbbf131e",
   "metadata": {},
   "outputs": [
    {
     "data": {
      "text/plain": [
       "5"
      ]
     },
     "execution_count": 47,
     "metadata": {},
     "output_type": "execute_result"
    }
   ],
   "source": [
    "len(benim_adim)"
   ]
  },
  {
   "cell_type": "code",
   "execution_count": 48,
   "id": "cae53384",
   "metadata": {},
   "outputs": [],
   "source": [
    "#stringlerde index"
   ]
  },
  {
   "cell_type": "code",
   "execution_count": 49,
   "id": "b47d3760",
   "metadata": {},
   "outputs": [],
   "source": [
    "benim_tam_ismim =\"merve şimşek\""
   ]
  },
  {
   "cell_type": "code",
   "execution_count": 50,
   "id": "112a02b5",
   "metadata": {},
   "outputs": [
    {
     "data": {
      "text/plain": [
       "'m'"
      ]
     },
     "execution_count": 50,
     "metadata": {},
     "output_type": "execute_result"
    }
   ],
   "source": [
    "benim_tam_ismim[0]"
   ]
  },
  {
   "cell_type": "code",
   "execution_count": 51,
   "id": "48722a9a",
   "metadata": {},
   "outputs": [
    {
     "data": {
      "text/plain": [
       "'r'"
      ]
     },
     "execution_count": 51,
     "metadata": {},
     "output_type": "execute_result"
    }
   ],
   "source": [
    "benim_tam_ismim[2]"
   ]
  },
  {
   "cell_type": "code",
   "execution_count": 52,
   "id": "ffc6bb4e",
   "metadata": {},
   "outputs": [
    {
     "data": {
      "text/plain": [
       "'i'"
      ]
     },
     "execution_count": 52,
     "metadata": {},
     "output_type": "execute_result"
    }
   ],
   "source": [
    "benim_tam_ismim[7]"
   ]
  },
  {
   "cell_type": "code",
   "execution_count": 53,
   "id": "2c60cf2f",
   "metadata": {},
   "outputs": [
    {
     "ename": "IndexError",
     "evalue": "string index out of range",
     "output_type": "error",
     "traceback": [
      "\u001b[1;31m---------------------------------------------------------------------------\u001b[0m",
      "\u001b[1;31mIndexError\u001b[0m                                Traceback (most recent call last)",
      "Input \u001b[1;32mIn [53]\u001b[0m, in \u001b[0;36m<cell line: 1>\u001b[1;34m()\u001b[0m\n\u001b[1;32m----> 1\u001b[0m \u001b[43mbenim_tam_ismim\u001b[49m\u001b[43m[\u001b[49m\u001b[38;5;241;43m14\u001b[39;49m\u001b[43m]\u001b[49m\n",
      "\u001b[1;31mIndexError\u001b[0m: string index out of range"
     ]
    }
   ],
   "source": [
    "benim_tam_ismim[14]"
   ]
  },
  {
   "cell_type": "code",
   "execution_count": 54,
   "id": "5a7951b6",
   "metadata": {},
   "outputs": [
    {
     "data": {
      "text/plain": [
       "'k'"
      ]
     },
     "execution_count": 54,
     "metadata": {},
     "output_type": "execute_result"
    }
   ],
   "source": [
    "benim_tam_ismim[len(benim_tam_ismim)-1]"
   ]
  },
  {
   "cell_type": "code",
   "execution_count": 55,
   "id": "4877a030",
   "metadata": {},
   "outputs": [
    {
     "data": {
      "text/plain": [
       "'k'"
      ]
     },
     "execution_count": 55,
     "metadata": {},
     "output_type": "execute_result"
    }
   ],
   "source": [
    "benim_tam_ismim[-1]"
   ]
  },
  {
   "cell_type": "code",
   "execution_count": 56,
   "id": "943c3970",
   "metadata": {},
   "outputs": [
    {
     "data": {
      "text/plain": [
       "'e'"
      ]
     },
     "execution_count": 56,
     "metadata": {},
     "output_type": "execute_result"
    }
   ],
   "source": [
    "benim_tam_ismim[-2]"
   ]
  },
  {
   "cell_type": "code",
   "execution_count": 57,
   "id": "719de645",
   "metadata": {},
   "outputs": [],
   "source": [
    "#starting index - stopping index -slicing"
   ]
  },
  {
   "cell_type": "code",
   "execution_count": 58,
   "id": "4d0eb6ab",
   "metadata": {},
   "outputs": [],
   "source": [
    "x =\"turkcell geleceği yazanlar\""
   ]
  },
  {
   "cell_type": "code",
   "execution_count": 59,
   "id": "2ee7aa28",
   "metadata": {},
   "outputs": [
    {
     "ename": "TypeError",
     "evalue": "object of type 'int' has no len()",
     "output_type": "error",
     "traceback": [
      "\u001b[1;31m---------------------------------------------------------------------------\u001b[0m",
      "\u001b[1;31mTypeError\u001b[0m                                 Traceback (most recent call last)",
      "Input \u001b[1;32mIn [59]\u001b[0m, in \u001b[0;36m<cell line: 1>\u001b[1;34m()\u001b[0m\n\u001b[1;32m----> 1\u001b[0m x[\u001b[38;5;28;43mlen\u001b[39;49m\u001b[43m(\u001b[49m\u001b[38;5;241;43m4\u001b[39;49m\u001b[43m)\u001b[49m]\n",
      "\u001b[1;31mTypeError\u001b[0m: object of type 'int' has no len()"
     ]
    }
   ],
   "source": [
    "x[len(4)]"
   ]
  },
  {
   "cell_type": "code",
   "execution_count": 60,
   "id": "83de066c",
   "metadata": {},
   "outputs": [
    {
     "data": {
      "text/plain": [
       "'ur'"
      ]
     },
     "execution_count": 60,
     "metadata": {},
     "output_type": "execute_result"
    }
   ],
   "source": [
    "x[1:3]"
   ]
  },
  {
   "cell_type": "code",
   "execution_count": 61,
   "id": "59f38f4b",
   "metadata": {},
   "outputs": [
    {
     "data": {
      "text/plain": [
       "'cell geleceği yazanlar'"
      ]
     },
     "execution_count": 61,
     "metadata": {},
     "output_type": "execute_result"
    }
   ],
   "source": [
    "x[4:]"
   ]
  },
  {
   "cell_type": "code",
   "execution_count": 62,
   "id": "fa188a2c",
   "metadata": {},
   "outputs": [
    {
     "data": {
      "text/plain": [
       "'turk'"
      ]
     },
     "execution_count": 62,
     "metadata": {},
     "output_type": "execute_result"
    }
   ],
   "source": [
    "x[:4]"
   ]
  },
  {
   "cell_type": "code",
   "execution_count": 65,
   "id": "f010bc4f",
   "metadata": {},
   "outputs": [
    {
     "data": {
      "text/plain": [
       "'l gele'"
      ]
     },
     "execution_count": 65,
     "metadata": {},
     "output_type": "execute_result"
    }
   ],
   "source": [
    "x[7:13]"
   ]
  },
  {
   "cell_type": "code",
   "execution_count": 66,
   "id": "8369e2fb",
   "metadata": {},
   "outputs": [],
   "source": [
    "#step size\n"
   ]
  },
  {
   "cell_type": "code",
   "execution_count": 67,
   "id": "3d267d7d",
   "metadata": {},
   "outputs": [
    {
     "data": {
      "text/plain": [
       "'re le '"
      ]
     },
     "execution_count": 67,
     "metadata": {},
     "output_type": "execute_result"
    }
   ],
   "source": [
    "x[2:19:3]"
   ]
  },
  {
   "cell_type": "code",
   "execution_count": 68,
   "id": "362aa765",
   "metadata": {},
   "outputs": [
    {
     "data": {
      "text/plain": [
       "'tklgeğyaa'"
      ]
     },
     "execution_count": 68,
     "metadata": {},
     "output_type": "execute_result"
    }
   ],
   "source": [
    "x[::3]"
   ]
  },
  {
   "cell_type": "code",
   "execution_count": 69,
   "id": "5c5883c4",
   "metadata": {},
   "outputs": [
    {
     "data": {
      "text/plain": [
       "'ralnazay iğeceleg lleckrut'"
      ]
     },
     "execution_count": 69,
     "metadata": {},
     "output_type": "execute_result"
    }
   ],
   "source": [
    "x[::-1]"
   ]
  },
  {
   "cell_type": "code",
   "execution_count": null,
   "id": "e4394321",
   "metadata": {},
   "outputs": [],
   "source": []
  }
 ],
 "metadata": {
  "kernelspec": {
   "display_name": "Python 3 (ipykernel)",
   "language": "python",
   "name": "python3"
  },
  "language_info": {
   "codemirror_mode": {
    "name": "ipython",
    "version": 3
   },
   "file_extension": ".py",
   "mimetype": "text/x-python",
   "name": "python",
   "nbconvert_exporter": "python",
   "pygments_lexer": "ipython3",
   "version": "3.9.12"
  }
 },
 "nbformat": 4,
 "nbformat_minor": 5
}
